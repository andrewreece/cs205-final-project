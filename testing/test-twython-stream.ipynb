{
 "cells": [
  {
   "cell_type": "code",
   "execution_count": null,
   "metadata": {
    "collapsed": true
   },
   "outputs": [],
   "source": [
    "import numpy as np\n",
    "import pandas as pd\n",
    "import twython\n",
    "from twython import TwythonStreamer\n",
    "import re"
   ]
  },
  {
   "cell_type": "code",
   "execution_count": null,
   "metadata": {
    "collapsed": true
   },
   "outputs": [],
   "source": [
    "# taken from https://twython.readthedocs.org/en/latest/usage/streaming_api.html\n",
    "\n",
    "class StreamReport(TwythonStreamer):\n",
    "    def on_error(self, status_code, data):\n",
    "        print(status_code)\n",
    "        # Want to stop trying to get data because of the error?\n",
    "        # Uncomment the next line!\n",
    "        self.disconnect()\n",
    "    def on_success(self, data):\n",
    "        if not isinstance(data,int):\n",
    "            if (('text' in data) and \n",
    "                ('retweeted_status' not in data) and \n",
    "                (len(data['entities']['urls'])==0) and\n",
    "                (('media' not in data['entities']) or all(['url' not in m for m in data['entities']['media']]))\n",
    "                ):\n",
    "                \n",
    "                print \"User:\",data['user']['screen_name']\n",
    "                print data['text'].encode('utf-8')\n",
    "                print \"Hashtags:\",[ht['text'] for ht in data['entities']['hashtags']]\n",
    "                print \"URLs:\",data['entities']['urls']\n",
    "                print\n",
    "                if re.search(\"http\",data['text']):\n",
    "                    print data\n",
    "        "
   ]
  },
  {
   "cell_type": "code",
   "execution_count": null,
   "metadata": {
    "collapsed": true
   },
   "outputs": [],
   "source": [
    "search_terms = np.loadtxt(\"search-terms.txt\",delimiter=\"\\n\",dtype=object)\n",
    "search_terms = ','.join(search_terms)"
   ]
  },
  {
   "cell_type": "code",
   "execution_count": null,
   "metadata": {
    "collapsed": true
   },
   "outputs": [],
   "source": [
    "stream = StreamReport(APP_KEY, APP_SECRET,\n",
    "                    OAUTH_TOKEN, OAUTH_TOKEN_SECRET)\n",
    "stream.statuses.filter(track=search_terms,delimited='length',language='en')"
   ]
  }
 ],
 "metadata": {
  "kernelspec": {
   "display_name": "Python 2",
   "language": "python",
   "name": "python2"
  },
  "language_info": {
   "codemirror_mode": {
    "name": "ipython",
    "version": 2
   },
   "file_extension": ".py",
   "mimetype": "text/x-python",
   "name": "python",
   "nbconvert_exporter": "python",
   "pygments_lexer": "ipython2",
   "version": "2.7.10"
  }
 },
 "nbformat": 4,
 "nbformat_minor": 0
}
