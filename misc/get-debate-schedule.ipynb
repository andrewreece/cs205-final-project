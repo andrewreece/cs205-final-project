{
 "cells": [
  {
   "cell_type": "code",
   "execution_count": 100,
   "metadata": {
    "collapsed": false
   },
   "outputs": [],
   "source": [
    "from bs4 import BeautifulSoup as bs\n",
    "import requests, json, re\n",
    "from time import strptime\n",
    "import numpy as np\n",
    "\n",
    "url = \"https://www.washingtonpost.com/graphics/politics/2016-election/debates/schedule/\"\n",
    "html = requests.get(url).text\n",
    "soup = bs(html, \"html.parser\")\n",
    "events = [['party','date','time','datetime']]\n",
    "items = soup.find_all(class_=\"debate-schedule-item\")\n",
    "\n",
    "for item in items:\n",
    "    party = item.find(class_=\"party\").string.split(\" \")[0]\n",
    "    date = re.sub(\"\\\\.|,\",\"\",item.find(class_=\"date\").string)\n",
    "    time_str = item.find(\"span\", class_=\"label\", text=re.compile(\"Time\"))\n",
    "    if time_str: \n",
    "        caveat = \"\"\n",
    "        rgx = re.search(\"(\\d{1,2}\\\\:?(\\d{2})?)\\sp\\\\.m\\\\.\",time_str.next_sibling)\n",
    "        if rgx:\n",
    "            time = rgx.group(1)\n",
    "            if len(time) <= 2:\n",
    "                time = str(int(time)+12)+\":00\"\n",
    "            else:\n",
    "                hr,mins = time.split(\":\")\n",
    "                hr = str(int(hr)+12) # always at night\n",
    "                time = hr + \":\" + str(mins)\n",
    "    else:\n",
    "        caveat = \"The time for this debate has not yet been officially set. The time given here is an approximation based on previous debate schedules.\"\n",
    "        time = \"20:00\"\n",
    "        hr,mins = time.split(\":\")\n",
    "    try: \n",
    "        mon, day, yr = date.split(\" \")\n",
    "        mon = str(strptime(mon[:3],'%b').tm_mon)\n",
    "        if len(mon) == 1:\n",
    "            mon = \"0\"+mon\n",
    "        if len(day) == 1:\n",
    "            day = \"0\"+day\n",
    "        timestamp = yr+'-'+mon+'-'+day+\"T\"+hr+\":\"+mins+\":00\"\n",
    "        events.append( [party,date,time,timestamp,caveat] )\n",
    "    except:\n",
    "        pass\n",
    "            \n",
    "np.savetxt(\"events.csv\",events,fmt='\"%s\"',delimiter=\",\") # inner double quotes make strings quoted in csv"
   ]
  },
  {
   "cell_type": "code",
   "execution_count": 93,
   "metadata": {
    "collapsed": true
   },
   "outputs": [],
   "source": []
  },
  {
   "cell_type": "code",
   "execution_count": null,
   "metadata": {
    "collapsed": true
   },
   "outputs": [],
   "source": []
  }
 ],
 "metadata": {
  "kernelspec": {
   "display_name": "Python 2",
   "language": "python",
   "name": "python2"
  },
  "language_info": {
   "codemirror_mode": {
    "name": "ipython",
    "version": 2
   },
   "file_extension": ".py",
   "mimetype": "text/x-python",
   "name": "python",
   "nbconvert_exporter": "python",
   "pygments_lexer": "ipython2",
   "version": "2.7.10"
  }
 },
 "nbformat": 4,
 "nbformat_minor": 0
}
