{
 "cells": [
  {
   "cell_type": "markdown",
   "metadata": {},
   "source": [
    "The point of this first section is to make a histogram of tweet frequency from 8-830pm for the sep 16 GOP debate. \n",
    "<br />\n",
    "Code is presented for both Spark SQL and Pandas."
   ]
  },
  {
   "cell_type": "code",
   "execution_count": 1,
   "metadata": {
    "collapsed": false
   },
   "outputs": [],
   "source": [
    "data_path = 'data/dem/20*.gz'\n",
    "path = ''\n",
    "\n",
    "import matplotlib\n",
    "import matplotlib.pyplot as plt\n",
    "%matplotlib inline\n",
    "import seaborn as sns\n",
    "# get rid of gridlines \n",
    "new_style = {'grid': False}\n",
    "matplotlib.rc('axes', **new_style)\n",
    "\n",
    "import json\n",
    "from dateutil import parser, tz\n",
    "from datetime import datetime, timedelta\n",
    "import pandas as pd\n",
    "import numpy as np\n",
    "import utils\n",
    "import re\n",
    "path                 = '/Users/andrew/git-local/'\n",
    "party_of_debate     = 'democrat'\n",
    "search_json_fname     = path+'search-terms.json'\n",
    "search_terms         = []\n",
    "\n",
    "# Load nested JSON of search terms\n",
    "jdata = utils.get_search_json(search_json_fname)\n",
    "\n",
    "# Collect all search terms in JSON into search_terms list\n",
    "search_terms = utils.pool_search_terms(jdata)\n",
    "p = '|(\\s|#|@)'.join(search_terms)\n",
    "\n",
    "\n",
    "from pyspark.sql import SQLContext, Row\n",
    "import pyspark.sql.functions as sqlfunc"
   ]
  },
  {
   "cell_type": "code",
   "execution_count": 2,
   "metadata": {
    "collapsed": false
   },
   "outputs": [],
   "source": [
    "def make_json(tweet):\n",
    "    ''' Get stringified JSOn from Kafka, attempt to convert to JSON '''\n",
    "    try:\n",
    "        return json.loads(tweet.decode('utf-8'))\n",
    "    except:\n",
    "        return \"error\"+str(tweet.decode('utf-8'))\n",
    "\n",
    "def filter_tweets(item,pattern):\n",
    "    ''' Filters out the tweets we do not want.  Filters include:\n",
    "            * No retweets \n",
    "            * No geolocation or location field (do we really care about this?)\n",
    "            * English language only\n",
    "            * No tweets with links\n",
    "                - We need to check both entities and media fields for this (is that true?)\n",
    "    '''\n",
    "    return (('delete' not in item.keys()) and\n",
    "            ('retweeted_status' not in item.keys())                           and \n",
    "            (item['lang']=='en')                       and\n",
    "            (len(item['entities']['urls'])==0)                   and\n",
    "            ('media' not in item['entities'].keys()) and\n",
    "            (re.search(pattern,item['text'],re.I) is not None)\n",
    "           )\n",
    "\n",
    "def get_relevant_fields(item):\n",
    "    ''' Reduce the full set of metadata down to only those we care about, including:\n",
    "            * timestamp\n",
    "            * username\n",
    "            * text of tweet \n",
    "            * hashtags\n",
    "            * geotag coordinates (if any)\n",
    "            * location (user-defined in profile, not necessarily current location)\n",
    "    '''\n",
    "    return (item['id'], \n",
    "            {\"timestamp\":  item['created_at'],\n",
    "             \"username\":    item['user']['screen_name'],\n",
    "             \"text\":        item['text'],\n",
    "             \"hashtags\":    [el['text'] for el in item['entities']['hashtags']],\n",
    "             \"geotag\":    item['geo'],\n",
    "             \"user_loc\":    item['user']['location']\n",
    "            }\n",
    "           )\n",
    "\n",
    "def update_tz(d,dtype):\n",
    "    \n",
    "    def convert_timezone(item):\n",
    "        from_zone = tz.gettz('UTC')\n",
    "        to_zone = tz.gettz('America/New_York')\n",
    "        dt = parser.parse(item['timestamp'])\n",
    "        utc = dt.replace(tzinfo=from_zone)\n",
    "        return utc.astimezone(to_zone)\n",
    "    \n",
    "    if dtype == \"sql\":\n",
    "        return Row(id=d[0], time=convert_timezone(d[1]))\n",
    "    elif dtype == \"pandas\":\n",
    "        return convert_timezone(d[1])"
   ]
  },
  {
   "cell_type": "code",
   "execution_count": 7,
   "metadata": {
    "collapsed": false
   },
   "outputs": [],
   "source": [
    "n_parts  = 10\n",
    "rdd      = sc.textFile(data_path).repartition(n_parts).cache() # partitionBy fails here, need to use repartition()\n",
    "filtered = (rdd.map(make_json)\n",
    "               .filter( lambda x: filter_tweets(x,p) )\n",
    "               .map( get_relevant_fields, preservesPartitioning=True )\n",
    "            )"
   ]
  },
  {
   "cell_type": "markdown",
   "metadata": {},
   "source": [
    "Below we demonstrate the syntax differences between using Spark SQL Data Frames and Pandas Data Frames"
   ]
  },
  {
   "cell_type": "code",
   "execution_count": 10,
   "metadata": {
    "collapsed": false
   },
   "outputs": [
    {
     "data": {
      "image/png": "[encoded data removed]",
      "text/plain": [
       "<matplotlib.figure.Figure at 0x10aa9f490>"
      ]
     },
     "metadata": {},
     "output_type": "display_data"
    }
   ],
   "source": [
    "# SparkSQL \n",
    "\n",
    "data = filtered.map( lambda x: update_tz(x,'sql'), preservesPartitioning=True )\n",
    "df = sqlContext.createDataFrame(data).cache()\n",
    "counts = df.groupby(sqlfunc.minute(\"time\")).count().collect()\n",
    "minutes,cts = zip(*counts)\n",
    "minutes = [m+800 if (m<=59 and m>28) else m+860 for m in minutes] # for some reason 7:59 tweets get included in the 8-815 range\n",
    "\n",
    "plt.bar(minutes,cts)\n",
    "plt.xlabel(\"Minutes (830-915pm)\", fontsize=16)\n",
    "_=plt.ylabel(\"Tweet frequency\", fontsize=16)"
   ]
  },
  {
   "cell_type": "code",
   "execution_count": 16,
   "metadata": {
    "collapsed": false
   },
   "outputs": [
    {
     "data": {
      "image/png": "[encoded data removed]",
      "text/plain": [
       "<matplotlib.figure.Figure at 0x10a187b90>"
      ]
     },
     "metadata": {},
     "output_type": "display_data"
    }
   ],
   "source": [
    "# Pandas\n",
    "\n",
    "data   = filtered.map( lambda x: update_tz(x,'pandas'), preservesPartitioning=True )\n",
    "df     = pd.DataFrame(data.collect(),columns=['time'])\n",
    "counts = df.time.groupby(df.time.dt.minute).count()\n",
    "\n",
    "np.put( counts.index.values, np.where(counts.index==59)[0],-1) # for some reason 7:59 tweets included in 8-815 range\n",
    "ax = counts.sort_index().plot(kind='bar',\n",
    "                              figsize=(9,5),\n",
    "                              width=.8,\n",
    "                              fontsize=14,\n",
    "                              rot=0)\n",
    "ax.set_ylabel(\"Tweet frequency\",fontsize=16)\n",
    "_=ax.set_xlabel(\"Minutes from 8-830pm\",fontsize=16)"
   ]
  },
  {
   "cell_type": "markdown",
   "metadata": {},
   "source": [
    "In this next section we create indicator variables for each candidate.  A mention in the tweet text or hashtag list of any of the search terms associated with each candidate will mark a 1 for that candidate's indicator. Thinking in terms of data frames here. We'll start from the 'filtered' RDD."
   ]
  },
  {
   "cell_type": "code",
   "execution_count": 65,
   "metadata": {
    "collapsed": false
   },
   "outputs": [
    {
     "data": {
      "text/plain": [
       "['{\"general\":[\"gopdebate\",\"cnndebate\",\"cnbcdebate\",\"foxbusinessdebate\",\"republicandebate\",\"democraticdebate\",\"candidates\"],\"candidates\":{\"democrat\":{\"clinton\":[\"clinton\",\"clinton\\'s\",\"hillary\",\"hillary\\'s\",\"hillaryclinton\",\"readyforhillary\",\"Hillary2016\"],\"sanders\":[\"sanders\",\"sanders\\'\",\"sanders\\'s\",\"bernie\",\"bernie\\'s\",\"feelthebern\",\"BernieSanders2016\",\"Sanders2016\"],\"omalley\":[\"omalley\",\"o\\'malley\",\"OMalley2016\",\"martinomalley\"]},\"gop\":{\"bush\":[\"bush\",\"bush\\'s\",\"jeb\",\"jeb\\'s\",\"jebbush\",\"jebcanfixit\",\"AllinForJeb\"],\"carson\":[\"carson\",\"carson\\'s\",\"bencarson\",\"BC2DC16\",\"ImWithBen\",\"Carson2016\"],\"cruz\":[\"cruz\",\"cruz\\'s\",\"tedcruz\",\"ATimeForTruth\",\"CruzCrew\"],\"fiorina\":[\"fiorina\",\"fiorina\\'s\",\"carlyfiorina\",\"Carly2016\"],\"kaisch\":[\"kaisch\",\"kaisch\\'s\",\"johnkaisch\"],\"rand\":[\"rand\",\"rand\\'s\",\"randpaul\",\"StandWithRand\"],\"rubio\":[\"rubio\",\"rubio\\'s\",\"marcorubio\",\"TeamMarco\"],\"trump\":[\"trump\",\"trump\\'s\",\"donaldtrump\",\"DonaldTrumpforPresident\",\"Trump2016\",\"makeamericagreatagain\",\"realdonaldtrump\"]}}}']"
      ]
     },
     "execution_count": 65,
     "metadata": {},
     "output_type": "execute_result"
    }
   ],
   "source": [
    "j"
   ]
  },
  {
   "cell_type": "code",
   "execution_count": 68,
   "metadata": {
    "collapsed": false
   },
   "outputs": [],
   "source": [
    "import json \n",
    "f = open('search-terms.json','r')\n",
    "j = f.readlines()\n",
    "f.close()\n",
    "searchj = json.loads(j[0])"
   ]
  },
  {
   "cell_type": "code",
   "execution_count": 70,
   "metadata": {
    "collapsed": false
   },
   "outputs": [
    {
     "name": "stdout",
     "output_type": "stream",
     "text": [
      "[u'sanders', u\"sanders'\", u\"sanders's\", u'bernie', u\"bernie's\", u'feelthebern', u'BernieSanders2016', u'Sanders2016', u'clinton', u\"clinton's\", u'hillary', u\"hillary's\", u'hillaryclinton', u'readyforhillary', u'Hillary2016', u'omalley', u\"o'malley\", u'OMalley2016', u'martinomalley', u'rand', u\"rand's\", u'randpaul', u'StandWithRand', u'trump', u\"trump's\", u'donaldtrump', u'DonaldTrumpforPresident', u'Trump2016', u'makeamericagreatagain', u'realdonaldtrump', u'cruz', u\"cruz's\", u'tedcruz', u'ATimeForTruth', u'CruzCrew', u'rubio', u\"rubio's\", u'marcorubio', u'TeamMarco', u'carson', u\"carson's\", u'bencarson', u'BC2DC16', u'ImWithBen', u'Carson2016', u'fiorina', u\"fiorina's\", u'carlyfiorina', u'Carly2016', u'bush', u\"bush's\", u'jeb', u\"jeb's\", u'jebbush', u'jebcanfixit', u'AllinForJeb', u'kaisch', u\"kaisch's\", u'johnkaisch', u'gopdebate', u'cnndebate', u'cnbcdebate', u'foxbusinessdebate', u'republicandebate', u'democraticdebate', u'candidates']\n"
     ]
    }
   ],
   "source": [
    "all_terms = []\n",
    "def get_vals(j):\n",
    "    ''' Short recursive routine to pull out all search terms in search-terms.json '''\n",
    "    if isinstance(j,dict):\n",
    "        for j2 in j.values():\n",
    "            get_vals(j2)\n",
    "    else:\n",
    "        all_terms.extend( j )\n",
    "        \n",
    "get_vals(searchj)"
   ]
  },
  {
   "cell_type": "code",
   "execution_count": 46,
   "metadata": {
    "collapsed": false
   },
   "outputs": [
    {
     "name": "stdout",
     "output_type": "stream",
     "text": [
      "[('omalley', [u'omalley', u\"o'malley\", u'OMalley2016', u'martinomalley']), ('clinton', [u'clinton', u\"clinton's\", u'hillary', u\"hillary's\", u'hillaryclinton', u'readyforhillary', u'Hillary2016']), ('sanders', [u'sanders', u\"sanders'\", u\"sanders's\", u'bernie', u\"bernie's\", u'feelthebern', u'BernieSanders2016', u'Sanders2016'])]\n"
     ]
    }
   ],
   "source": [
    "party_of_debate = 'democrat'\n",
    "search_json_fname = 'search-terms.json'\n",
    "search_json = sqlContext.read.json(search_json_fname)\n",
    "candidates = j.select(j.candidates[party_of_debate]).flatMap(lambda x: x).collect()\n",
    "for c in cands:\n",
    "    print c.asDict().items()"
   ]
  },
  {
   "cell_type": "code",
   "execution_count": 4,
   "metadata": {
    "collapsed": false
   },
   "outputs": [
    {
     "ename": "Py4JJavaError",
     "evalue": "An error occurred while calling o28.load.\n: java.lang.ClassNotFoundException: Failed to load class for data source: com.databricks.spark.csv.\n\tat org.apache.spark.sql.execution.datasources.ResolvedDataSource$.lookupDataSource(ResolvedDataSource.scala:67)\n\tat org.apache.spark.sql.execution.datasources.ResolvedDataSource$.apply(ResolvedDataSource.scala:87)\n\tat org.apache.spark.sql.DataFrameReader.load(DataFrameReader.scala:114)\n\tat org.apache.spark.sql.DataFrameReader.load(DataFrameReader.scala:104)\n\tat sun.reflect.NativeMethodAccessorImpl.invoke0(Native Method)\n\tat sun.reflect.NativeMethodAccessorImpl.invoke(NativeMethodAccessorImpl.java:62)\n\tat sun.reflect.DelegatingMethodAccessorImpl.invoke(DelegatingMethodAccessorImpl.java:43)\n\tat java.lang.reflect.Method.invoke(Method.java:497)\n\tat py4j.reflection.MethodInvoker.invoke(MethodInvoker.java:231)\n\tat py4j.reflection.ReflectionEngine.invoke(ReflectionEngine.java:379)\n\tat py4j.Gateway.invoke(Gateway.java:259)\n\tat py4j.commands.AbstractCommand.invokeMethod(AbstractCommand.java:133)\n\tat py4j.commands.CallCommand.execute(CallCommand.java:79)\n\tat py4j.GatewayConnection.run(GatewayConnection.java:207)\n\tat java.lang.Thread.run(Thread.java:745)\nCaused by: java.lang.ClassNotFoundException: com.databricks.spark.csv.DefaultSource\n\tat java.net.URLClassLoader.findClass(URLClassLoader.java:381)\n\tat java.lang.ClassLoader.loadClass(ClassLoader.java:424)\n\tat java.lang.ClassLoader.loadClass(ClassLoader.java:357)\n\tat org.apache.spark.sql.execution.datasources.ResolvedDataSource$$anonfun$4$$anonfun$apply$1.apply(ResolvedDataSource.scala:60)\n\tat org.apache.spark.sql.execution.datasources.ResolvedDataSource$$anonfun$4$$anonfun$apply$1.apply(ResolvedDataSource.scala:60)\n\tat scala.util.Try$.apply(Try.scala:161)\n\tat org.apache.spark.sql.execution.datasources.ResolvedDataSource$$anonfun$4.apply(ResolvedDataSource.scala:60)\n\tat org.apache.spark.sql.execution.datasources.ResolvedDataSource$$anonfun$4.apply(ResolvedDataSource.scala:60)\n\tat scala.util.Try.orElse(Try.scala:82)\n\tat org.apache.spark.sql.execution.datasources.ResolvedDataSource$.lookupDataSource(ResolvedDataSource.scala:60)\n\t... 14 more\n",
     "output_type": "error",
     "traceback": [
      "\u001b[0;31m---------------------------------------------------------------------------\u001b[0m",
      "\u001b[0;31mPy4JJavaError\u001b[0m                             Traceback (most recent call last)",
      "\u001b[0;32m<ipython-input-4-e7f5422538b3>\u001b[0m in \u001b[0;36m<module>\u001b[0;34m()\u001b[0m\n\u001b[0;32m----> 1\u001b[0;31m \u001b[0mst\u001b[0m \u001b[0;34m=\u001b[0m \u001b[0msqlContext\u001b[0m\u001b[0;34m.\u001b[0m\u001b[0mread\u001b[0m\u001b[0;34m.\u001b[0m\u001b[0mformat\u001b[0m\u001b[0;34m(\u001b[0m\u001b[0;34m'com.databricks.spark.csv'\u001b[0m\u001b[0;34m)\u001b[0m\u001b[0;34m.\u001b[0m\u001b[0moptions\u001b[0m\u001b[0;34m(\u001b[0m\u001b[0mheader\u001b[0m\u001b[0;34m=\u001b[0m\u001b[0;34m'true'\u001b[0m\u001b[0;34m,\u001b[0m \u001b[0minferschema\u001b[0m\u001b[0;34m=\u001b[0m\u001b[0;34m'true'\u001b[0m\u001b[0;34m)\u001b[0m\u001b[0;34m.\u001b[0m\u001b[0mload\u001b[0m\u001b[0;34m(\u001b[0m\u001b[0;34m'search-terms.csv'\u001b[0m\u001b[0;34m)\u001b[0m\u001b[0;34m\u001b[0m\u001b[0m\n\u001b[0m\u001b[1;32m      2\u001b[0m \u001b[0msqlContext\u001b[0m\u001b[0;34m.\u001b[0m\u001b[0mregisterDataFrameAsTable\u001b[0m\u001b[0;34m(\u001b[0m\u001b[0mst\u001b[0m\u001b[0;34m,\u001b[0m\u001b[0;34m'term_table'\u001b[0m\u001b[0;34m)\u001b[0m\u001b[0;34m\u001b[0m\u001b[0m\n",
      "\u001b[0;32m/usr/local/Cellar/apache-spark/1.5.1/libexec//python/pyspark/sql/readwriter.pyc\u001b[0m in \u001b[0;36mload\u001b[0;34m(self, path, format, schema, **options)\u001b[0m\n\u001b[1;32m    119\u001b[0m         \u001b[0mself\u001b[0m\u001b[0;34m.\u001b[0m\u001b[0moptions\u001b[0m\u001b[0;34m(\u001b[0m\u001b[0;34m**\u001b[0m\u001b[0moptions\u001b[0m\u001b[0;34m)\u001b[0m\u001b[0;34m\u001b[0m\u001b[0m\n\u001b[1;32m    120\u001b[0m         \u001b[0;32mif\u001b[0m \u001b[0mpath\u001b[0m \u001b[0;32mis\u001b[0m \u001b[0;32mnot\u001b[0m \u001b[0mNone\u001b[0m\u001b[0;34m:\u001b[0m\u001b[0;34m\u001b[0m\u001b[0m\n\u001b[0;32m--> 121\u001b[0;31m             \u001b[0;32mreturn\u001b[0m \u001b[0mself\u001b[0m\u001b[0;34m.\u001b[0m\u001b[0m_df\u001b[0m\u001b[0;34m(\u001b[0m\u001b[0mself\u001b[0m\u001b[0;34m.\u001b[0m\u001b[0m_jreader\u001b[0m\u001b[0;34m.\u001b[0m\u001b[0mload\u001b[0m\u001b[0;34m(\u001b[0m\u001b[0mpath\u001b[0m\u001b[0;34m)\u001b[0m\u001b[0;34m)\u001b[0m\u001b[0;34m\u001b[0m\u001b[0m\n\u001b[0m\u001b[1;32m    122\u001b[0m         \u001b[0;32melse\u001b[0m\u001b[0;34m:\u001b[0m\u001b[0;34m\u001b[0m\u001b[0m\n\u001b[1;32m    123\u001b[0m             \u001b[0;32mreturn\u001b[0m \u001b[0mself\u001b[0m\u001b[0;34m.\u001b[0m\u001b[0m_df\u001b[0m\u001b[0;34m(\u001b[0m\u001b[0mself\u001b[0m\u001b[0;34m.\u001b[0m\u001b[0m_jreader\u001b[0m\u001b[0;34m.\u001b[0m\u001b[0mload\u001b[0m\u001b[0;34m(\u001b[0m\u001b[0;34m)\u001b[0m\u001b[0;34m)\u001b[0m\u001b[0;34m\u001b[0m\u001b[0m\n",
      "\u001b[0;32m/usr/local/Cellar/apache-spark/1.5.1/libexec/python/lib/py4j-0.8.2.1-src.zip/py4j/java_gateway.py\u001b[0m in \u001b[0;36m__call__\u001b[0;34m(self, *args)\u001b[0m\n\u001b[1;32m    536\u001b[0m         \u001b[0manswer\u001b[0m \u001b[0;34m=\u001b[0m \u001b[0mself\u001b[0m\u001b[0;34m.\u001b[0m\u001b[0mgateway_client\u001b[0m\u001b[0;34m.\u001b[0m\u001b[0msend_command\u001b[0m\u001b[0;34m(\u001b[0m\u001b[0mcommand\u001b[0m\u001b[0;34m)\u001b[0m\u001b[0;34m\u001b[0m\u001b[0m\n\u001b[1;32m    537\u001b[0m         return_value = get_return_value(answer, self.gateway_client,\n\u001b[0;32m--> 538\u001b[0;31m                 self.target_id, self.name)\n\u001b[0m\u001b[1;32m    539\u001b[0m \u001b[0;34m\u001b[0m\u001b[0m\n\u001b[1;32m    540\u001b[0m         \u001b[0;32mfor\u001b[0m \u001b[0mtemp_arg\u001b[0m \u001b[0;32min\u001b[0m \u001b[0mtemp_args\u001b[0m\u001b[0;34m:\u001b[0m\u001b[0;34m\u001b[0m\u001b[0m\n",
      "\u001b[0;32m/usr/local/Cellar/apache-spark/1.5.1/libexec//python/pyspark/sql/utils.pyc\u001b[0m in \u001b[0;36mdeco\u001b[0;34m(*a, **kw)\u001b[0m\n\u001b[1;32m     34\u001b[0m     \u001b[0;32mdef\u001b[0m \u001b[0mdeco\u001b[0m\u001b[0;34m(\u001b[0m\u001b[0;34m*\u001b[0m\u001b[0ma\u001b[0m\u001b[0;34m,\u001b[0m \u001b[0;34m**\u001b[0m\u001b[0mkw\u001b[0m\u001b[0;34m)\u001b[0m\u001b[0;34m:\u001b[0m\u001b[0;34m\u001b[0m\u001b[0m\n\u001b[1;32m     35\u001b[0m         \u001b[0;32mtry\u001b[0m\u001b[0;34m:\u001b[0m\u001b[0;34m\u001b[0m\u001b[0m\n\u001b[0;32m---> 36\u001b[0;31m             \u001b[0;32mreturn\u001b[0m \u001b[0mf\u001b[0m\u001b[0;34m(\u001b[0m\u001b[0;34m*\u001b[0m\u001b[0ma\u001b[0m\u001b[0;34m,\u001b[0m \u001b[0;34m**\u001b[0m\u001b[0mkw\u001b[0m\u001b[0;34m)\u001b[0m\u001b[0;34m\u001b[0m\u001b[0m\n\u001b[0m\u001b[1;32m     37\u001b[0m         \u001b[0;32mexcept\u001b[0m \u001b[0mpy4j\u001b[0m\u001b[0;34m.\u001b[0m\u001b[0mprotocol\u001b[0m\u001b[0;34m.\u001b[0m\u001b[0mPy4JJavaError\u001b[0m \u001b[0;32mas\u001b[0m \u001b[0me\u001b[0m\u001b[0;34m:\u001b[0m\u001b[0;34m\u001b[0m\u001b[0m\n\u001b[1;32m     38\u001b[0m             \u001b[0ms\u001b[0m \u001b[0;34m=\u001b[0m \u001b[0me\u001b[0m\u001b[0;34m.\u001b[0m\u001b[0mjava_exception\u001b[0m\u001b[0;34m.\u001b[0m\u001b[0mtoString\u001b[0m\u001b[0;34m(\u001b[0m\u001b[0;34m)\u001b[0m\u001b[0;34m\u001b[0m\u001b[0m\n",
      "\u001b[0;32m/usr/local/Cellar/apache-spark/1.5.1/libexec/python/lib/py4j-0.8.2.1-src.zip/py4j/protocol.py\u001b[0m in \u001b[0;36mget_return_value\u001b[0;34m(answer, gateway_client, target_id, name)\u001b[0m\n\u001b[1;32m    298\u001b[0m                 raise Py4JJavaError(\n\u001b[1;32m    299\u001b[0m                     \u001b[0;34m'An error occurred while calling {0}{1}{2}.\\n'\u001b[0m\u001b[0;34m.\u001b[0m\u001b[0;34m\u001b[0m\u001b[0m\n\u001b[0;32m--> 300\u001b[0;31m                     format(target_id, '.', name), value)\n\u001b[0m\u001b[1;32m    301\u001b[0m             \u001b[0;32melse\u001b[0m\u001b[0;34m:\u001b[0m\u001b[0;34m\u001b[0m\u001b[0m\n\u001b[1;32m    302\u001b[0m                 raise Py4JError(\n",
      "\u001b[0;31mPy4JJavaError\u001b[0m: An error occurred while calling o28.load.\n: java.lang.ClassNotFoundException: Failed to load class for data source: com.databricks.spark.csv.\n\tat org.apache.spark.sql.execution.datasources.ResolvedDataSource$.lookupDataSource(ResolvedDataSource.scala:67)\n\tat org.apache.spark.sql.execution.datasources.ResolvedDataSource$.apply(ResolvedDataSource.scala:87)\n\tat org.apache.spark.sql.DataFrameReader.load(DataFrameReader.scala:114)\n\tat org.apache.spark.sql.DataFrameReader.load(DataFrameReader.scala:104)\n\tat sun.reflect.NativeMethodAccessorImpl.invoke0(Native Method)\n\tat sun.reflect.NativeMethodAccessorImpl.invoke(NativeMethodAccessorImpl.java:62)\n\tat sun.reflect.DelegatingMethodAccessorImpl.invoke(DelegatingMethodAccessorImpl.java:43)\n\tat java.lang.reflect.Method.invoke(Method.java:497)\n\tat py4j.reflection.MethodInvoker.invoke(MethodInvoker.java:231)\n\tat py4j.reflection.ReflectionEngine.invoke(ReflectionEngine.java:379)\n\tat py4j.Gateway.invoke(Gateway.java:259)\n\tat py4j.commands.AbstractCommand.invokeMethod(AbstractCommand.java:133)\n\tat py4j.commands.CallCommand.execute(CallCommand.java:79)\n\tat py4j.GatewayConnection.run(GatewayConnection.java:207)\n\tat java.lang.Thread.run(Thread.java:745)\nCaused by: java.lang.ClassNotFoundException: com.databricks.spark.csv.DefaultSource\n\tat java.net.URLClassLoader.findClass(URLClassLoader.java:381)\n\tat java.lang.ClassLoader.loadClass(ClassLoader.java:424)\n\tat java.lang.ClassLoader.loadClass(ClassLoader.java:357)\n\tat org.apache.spark.sql.execution.datasources.ResolvedDataSource$$anonfun$4$$anonfun$apply$1.apply(ResolvedDataSource.scala:60)\n\tat org.apache.spark.sql.execution.datasources.ResolvedDataSource$$anonfun$4$$anonfun$apply$1.apply(ResolvedDataSource.scala:60)\n\tat scala.util.Try$.apply(Try.scala:161)\n\tat org.apache.spark.sql.execution.datasources.ResolvedDataSource$$anonfun$4.apply(ResolvedDataSource.scala:60)\n\tat org.apache.spark.sql.execution.datasources.ResolvedDataSource$$anonfun$4.apply(ResolvedDataSource.scala:60)\n\tat scala.util.Try.orElse(Try.scala:82)\n\tat org.apache.spark.sql.execution.datasources.ResolvedDataSource$.lookupDataSource(ResolvedDataSource.scala:60)\n\t... 14 more\n"
     ]
    }
   ],
   "source": [
    "st = sqlContext.read.format('com.databricks.spark.csv').options(header='true', inferschema='true').load('search-terms.csv')\n",
    "sqlContext.registerDataFrameAsTable(st,'term_table')\n"
   ]
  },
  {
   "cell_type": "code",
   "execution_count": null,
   "metadata": {
    "collapsed": true
   },
   "outputs": [],
   "source": [
    "debate_party = \"gop\"\n",
    "cdf = sqlContext.sql('SELECT candidates.{} FROM table'.format(debate_party))"
   ]
  },
  {
   "cell_type": "code",
   "execution_count": 167,
   "metadata": {
    "collapsed": false
   },
   "outputs": [
    {
     "name": "stdout",
     "output_type": "stream",
     "text": [
      "root\n",
      " |-- gop: struct (nullable = true)\n",
      " |    |-- bush: struct (nullable = true)\n",
      " |    |    |-- terms: array (nullable = true)\n",
      " |    |    |    |-- element: string (containsNull = true)\n",
      " |    |-- carson: struct (nullable = true)\n",
      " |    |    |-- terms: array (nullable = true)\n",
      " |    |    |    |-- element: string (containsNull = true)\n",
      " |    |-- cruz: struct (nullable = true)\n",
      " |    |    |-- terms: array (nullable = true)\n",
      " |    |    |    |-- element: string (containsNull = true)\n",
      " |    |-- fiorina: struct (nullable = true)\n",
      " |    |    |-- terms: array (nullable = true)\n",
      " |    |    |    |-- element: string (containsNull = true)\n",
      " |    |-- kaisch: struct (nullable = true)\n",
      " |    |    |-- terms: array (nullable = true)\n",
      " |    |    |    |-- element: string (containsNull = true)\n",
      " |    |-- rand: struct (nullable = true)\n",
      " |    |    |-- terms: array (nullable = true)\n",
      " |    |    |    |-- element: string (containsNull = true)\n",
      " |    |-- rubio: struct (nullable = true)\n",
      " |    |    |-- terms: array (nullable = true)\n",
      " |    |    |    |-- element: string (containsNull = true)\n",
      " |    |-- trump: struct (nullable = true)\n",
      " |    |    |-- terms: array (nullable = true)\n",
      " |    |    |    |-- element: string (containsNull = true)\n",
      "\n"
     ]
    }
   ],
   "source": [
    "cdf.printSchema()"
   ]
  },
  {
   "cell_type": "code",
   "execution_count": 178,
   "metadata": {
    "collapsed": false
   },
   "outputs": [
    {
     "data": {
      "text/plain": [
       "['gop']"
      ]
     },
     "execution_count": 178,
     "metadata": {},
     "output_type": "execute_result"
    }
   ],
   "source": [
    "cdf.select(cdf.gop).columns"
   ]
  },
  {
   "cell_type": "code",
   "execution_count": 79,
   "metadata": {
    "collapsed": false
   },
   "outputs": [
    {
     "name": "stdout",
     "output_type": "stream",
     "text": [
      "root\n",
      "\n"
     ]
    }
   ],
   "source": [
    "df4.printSchema()"
   ]
  },
  {
   "cell_type": "code",
   "execution_count": null,
   "metadata": {
    "collapsed": true
   },
   "outputs": [],
   "source": []
  },
  {
   "cell_type": "code",
   "execution_count": null,
   "metadata": {
    "collapsed": true
   },
   "outputs": [],
   "source": []
  },
  {
   "cell_type": "code",
   "execution_count": null,
   "metadata": {
    "collapsed": true
   },
   "outputs": [],
   "source": []
  }
 ],
 "metadata": {
  "kernelspec": {
   "display_name": "Python 2",
   "language": "python",
   "name": "python2"
  },
  "language_info": {
   "codemirror_mode": {
    "name": "ipython",
    "version": 2
   },
   "file_extension": ".py",
   "mimetype": "text/x-python",
   "name": "python",
   "nbconvert_exporter": "python",
   "pygments_lexer": "ipython2",
   "version": "2.7.10"
  }
 },
 "nbformat": 4,
 "nbformat_minor": 0
}
