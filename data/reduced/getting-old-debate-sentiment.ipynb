{
 "cells": [
  {
   "cell_type": "code",
   "execution_count": 1,
   "metadata": {
    "collapsed": false
   },
   "outputs": [],
   "source": [
    "import json,re,boto3\n",
    "import numpy as np\n",
    "import pandas as pd\n",
    "from datetime import *\n",
    "from dateutil import parser, tz\n",
    "\n",
    "import seaborn as sns\n",
    "import matplotlib\n",
    "%matplotlib inline\n",
    "import matplotlib.pyplot as plt\n",
    "# get rid of gridlines \n",
    "new_style = {'grid': False}\n",
    "matplotlib.rc('axes', **new_style)\n",
    "\n",
    "import imp\n",
    "sentiment = imp.load_source('sentiment', '/Users/andrew/git-local/sentiment.py')"
   ]
  },
  {
   "cell_type": "code",
   "execution_count": 2,
   "metadata": {
    "collapsed": false
   },
   "outputs": [],
   "source": [
    "client = boto3.client('sdb')\n",
    "domain_name = \"sentiment\""
   ]
  },
  {
   "cell_type": "code",
   "execution_count": 4,
   "metadata": {
    "collapsed": false
   },
   "outputs": [
    {
     "data": {
      "text/plain": [
       "{'ResponseMetadata': {'BoxUsage': '0.0055590278',\n",
       "  'HTTPStatusCode': 200,\n",
       "  'RequestId': '183d074a-4220-4143-bbb1-49610f84d331'}}"
      ]
     },
     "execution_count": 4,
     "metadata": {},
     "output_type": "execute_result"
    }
   ],
   "source": [
    "client.create_domain(DomainName=domain_name)"
   ]
  },
  {
   "cell_type": "code",
   "execution_count": 5,
   "metadata": {
    "collapsed": true
   },
   "outputs": [],
   "source": [
    "def update_tz(d):\n",
    "    ''' Updates time zone for date stamp to US EST (the time zone of the debates) '''\n",
    "    def convert_timezone(item):\n",
    "        from_zone = tz.gettz('UTC')\n",
    "        to_zone = tz.gettz('America/New_York')\n",
    "        utc = d.replace(tzinfo=from_zone)\n",
    "        return utc.astimezone(to_zone)\n",
    "    \n",
    "    return convert_timezone(d)"
   ]
  },
  {
   "cell_type": "code",
   "execution_count": 6,
   "metadata": {
    "collapsed": false
   },
   "outputs": [],
   "source": [
    "labMT, mtList, wordList = sentiment.emotionFileReader(1.0, returnVector=True)"
   ]
  },
  {
   "cell_type": "code",
   "execution_count": 8,
   "metadata": {
    "collapsed": false
   },
   "outputs": [],
   "source": [
    "details = [{\"party\":\"gop\",\"ddate\":\"sep16\"}, {\"party\":\"dem\",\"ddate\":\"oct13\"}]\n",
    "\n",
    "for event in details:\n",
    "    \n",
    "    party = event['party']\n",
    "    ddate  = event['ddate']\n",
    "    path = party+\"/\"+ddate+\"/\"\n",
    "    \n",
    "    raw = []\n",
    "    for hr in ['19','20','21','22','23']:\n",
    "        with open(path+hr+'.txt','r') as f:\n",
    "\n",
    "            raw.extend(f.readlines())\n",
    "\n",
    "    # read in as array of dicts\n",
    "    rows = np.array([json.loads(line) for line in raw])\n",
    "    # we only need some of these keys, and the others may cause trouble for pandas\n",
    "    keys = np.array(['first_term','text','timestamp','tweet_id','username'])\n",
    "    for row in rows:\n",
    "        for k in row.keys():\n",
    "            if k not in keys:\n",
    "                del row[k]\n",
    "\n",
    "    df = pd.DataFrame.from_records(rows)\n",
    "    \n",
    "    interval = 30\n",
    "    df['timestamp'] = pd.to_datetime(df.timestamp)\n",
    "    df['timestamp'] = df.timestamp.apply(\n",
    "                        lambda dt: datetime(dt.year, dt.month, dt.day, dt.hour, \n",
    "                                            dt.minute,interval*(dt.second // interval))\n",
    "                      )\n",
    "    df.timestamp = df.timestamp.apply(update_tz)\n",
    "\n",
    "    g = df.groupby(['first_term',pd.TimeGrouper(str(interval)+'S',key=\"timestamp\")])\n",
    "\n",
    "    candidate_dict = {}\n",
    "    candidate_names = df.first_term.unique()\n",
    "    tweet_counts = g.text.count()\n",
    "\n",
    "    for candidate in candidate_names:\n",
    "        try:\n",
    "            n = tweet_counts[candidate]\n",
    "        except:\n",
    "            n = 0\n",
    "        candidate_dict[candidate] = { 'party':party if candidate is not 'general' else 'general',\n",
    "                                      'num_tweets':n,\n",
    "                                      'sentiment_avg':'',\n",
    "                                      'sentiment_std':'',\n",
    "                                      'highest_sentiment_tweet':'',\n",
    "                                      'lowest_sentiment_tweet':''\n",
    "                                     }\n",
    "        \n",
    "    cts = g.text.count().reset_index().sort_values(by=['timestamp','first_term'])\n",
    "    cts.columns = ['first_term','timestamp','count']\n",
    "    sentidf = g.text.apply(lambda x: sentiment.emotion(' '.join(x),labMT, return_scores=True))\n",
    "    sentidf = sentidf.reset_index()\n",
    "\n",
    "    sentidf['prop_words_scored'] = 0\n",
    "    sentidf['total_word_ct'] = 0\n",
    "    sentidf['sentiment_avg'] = 0\n",
    "    sentidf['sentiment_std'] = 0\n",
    "\n",
    "    sentidf.sentiment_avg = [x[0] for x in sentidf.text]\n",
    "    sentidf.sentiment_std = [x[1] for x in sentidf.text]\n",
    "    sentidf.total_word_ct = [x[5] for x in sentidf.text]\n",
    "    sentidf.prop_words_scored = [x[6] for x in sentidf.text]\n",
    "    sentidf.drop('text',1,inplace=True)\n",
    "    \n",
    "    \n",
    "\n",
    "    finaldf = pd.concat([sentidf.sort_values(by=['timestamp','first_term']),cts.ix[:,'count']],1).reset_index(drop=True)\n",
    "\n",
    "    for cname, grouped in finaldf.groupby('first_term'):\n",
    "        # gives datetime in epoch seconds (that's how we do it in utils.py)\n",
    "        #item_name = ts.strftime('%s')\n",
    "        \n",
    "        for i, (ts, grouped2) in enumerate(grouped.groupby('timestamp')):\n",
    "            record = []\n",
    "            ts_str = ts.strftime('%s')\n",
    "            item_name = '_'.join([cname,ts_str])\n",
    "            sentiment_data = grouped.ix[grouped.first_term==cname,['count','total_word_ct','prop_words_scored','sentiment_avg','sentiment_std']].to_dict(orient=\"records\")\n",
    "            record.append({\"Name\":\"data\", \"Value\": json.dumps(sentiment_data[i]), \"Replace\":False})\n",
    "            record.append({\"Name\":\"timestamp\", \"Value\": ts_str, \"Replace\":False})\n",
    "            record.append({\"Name\":\"candidate\", \"Value\": cname, \"Replace\":False})\n",
    "            client.put_attributes(\n",
    "                DomainName = domain_name,\n",
    "                ItemName   = item_name,\n",
    "                Attributes = record \n",
    "            )        "
   ]
  },
  {
   "cell_type": "code",
   "execution_count": 52,
   "metadata": {
    "collapsed": false
   },
   "outputs": [],
   "source": [
    "\n"
   ]
  },
  {
   "cell_type": "code",
   "execution_count": 44,
   "metadata": {
    "collapsed": false
   },
   "outputs": [
    {
     "data": {
      "image/png": "[encoded data removed]",
      "text/plain": [
       "<matplotlib.figure.Figure at 0x11fdd8590>"
      ]
     },
     "metadata": {},
     "output_type": "display_data"
    }
   ],
   "source": [
    "\n",
    "for name in candidate_names:\n",
    "    n= 60\n",
    "    ax = candidate_dict[name]['num_tweets'].plot(kind='bar',figsize=(10,4))\n",
    "    ticks = ax.xaxis.get_ticklocs()\n",
    "    xticklabels = [l.get_text().split(\" \")[1].split('-')[0][:-3] for l in ax.xaxis.get_ticklabels()]\n",
    "    ax.xaxis.set_ticks(ticks[::n])\n",
    "    ax.xaxis.set_ticklabels(xticklabels[::n], fontsize=14)\n",
    "    ax.set_ylabel(\"Number of Tweets\",fontsize=18)\n",
    "    ax.set_xlabel(\"30 Second Intervals\",fontsize=18)\n",
    "    plt.tick_params(axis='both', which='major', labelsize=14)\n",
    "    plt.title(\"{party} {d} Debate: Tweet Count per 30s, {who}\".format(party=party.upper(),d=ddate.upper(),who=name.upper()),fontsize=16)\n",
    "    plt.savefig(\"_\".join([party,ddate,name]),bbox_inches='tight')\n",
    "    #ax.figure.show()"
   ]
  },
  {
   "cell_type": "markdown",
   "metadata": {},
   "source": [
    "Note: If making histograms, limit df to time of debate. Eg. dem oct 13 debate is 830-11pm"
   ]
  },
  {
   "cell_type": "code",
   "execution_count": 10,
   "metadata": {
    "collapsed": false
   },
   "outputs": [],
   "source": [
    "start_time = datetime.strptime(\"20:30:00\",\"%H:%M:%S\").time()\n",
    "end_time = datetime.strptime(\"23:00:00\",\"%H:%M:%S\").time()\n",
    "actualdf = df.ix[(df.timestamp.dt.time >= start_time) & (df.timestamp.dt.time <= end_time),:]\n",
    "gactual = df.groupby(['first_term',pd.TimeGrouper(str(interval)+'S',key=\"timestamp\")])\n",
    "ctdf = pd.DataFrame(gactual.text.count()).reset_index()"
   ]
  },
  {
   "cell_type": "code",
   "execution_count": 25,
   "metadata": {
    "collapsed": false
   },
   "outputs": [
    {
     "name": "stdout",
     "output_type": "stream",
     "text": [
      "use proprotion for general: 0.0433460076046\n",
      "[936]\n",
      "highest scoring tweet: laughter\n",
      "lowest scoring tweet: american\n",
      "use proprotion for sanders: 0.0514128728414\n",
      "[ 81 100 186 235 296 299 303 313]\n",
      "highest scoring tweet: love\n",
      "lowest scoring tweet: american\n",
      "use proprotion for clinton: 0.0519673348181\n",
      "[ 10 104 105 190 201]\n",
      "highest scoring tweet: love\n",
      "lowest scoring tweet: american\n",
      "use proprotion for omalley: 0.0545454545455\n",
      "[10]\n",
      "highest scoring tweet: entertaining\n",
      "lowest scoring tweet: horse\n"
     ]
    }
   ],
   "source": [
    "for cname in candidate_names:\n",
    "    mtavg, mtstd, mtvec, used, unused = sentiment.emotion(each_cand_tweets[cname],labMT, return_scores=True)\n",
    "    print 'use proprotion for {}: {}'.format(cname, len(set(used))/float(len(set(each_cand_tweets[cname].split(\" \")))))\n",
    "    \n",
    "    print np.where(np.array(mtvec)==max(mtvec))[0]\n",
    "    max_ix = np.random.choice(np.where(np.array(mtvec)==max(mtvec))[0])\n",
    "    print 'highest scoring tweet: {}'.format(used[max_ix])\n",
    "    min_ix = np.random.choice(np.where(np.array(mtvec)==min(mtvec))[0])\n",
    "    print 'lowest scoring tweet: {}'.format(used[min_ix])"
   ]
  },
  {
   "cell_type": "code",
   "execution_count": 53,
   "metadata": {
    "collapsed": false
   },
   "outputs": [
    {
     "data": {
      "text/plain": [
       "<matplotlib.legend.Legend at 0x10d5b7390>"
      ]
     },
     "execution_count": 53,
     "metadata": {},
     "output_type": "execute_result"
    },
    {
     "data": {
      "image/png": "[encoded data removed]",
      "text/plain": [
       "<matplotlib.figure.Figure at 0x10e17db90>"
      ]
     },
     "metadata": {},
     "output_type": "display_data"
    }
   ],
   "source": [
    "plt.figure(figsize=(6,4))\n",
    "for c in each_cand_sent:\n",
    "    plt.hist(c[2],bins=15,alpha=0.4)\n",
    "plt.legend(each_cand_sent.index.values.astype(str),fontsize=14)"
   ]
  }
 ],
 "metadata": {
  "kernelspec": {
   "display_name": "Python 2",
   "language": "python",
   "name": "python2"
  },
  "language_info": {
   "codemirror_mode": {
    "name": "ipython",
    "version": 2
   },
   "file_extension": ".py",
   "mimetype": "text/x-python",
   "name": "python",
   "nbconvert_exporter": "python",
   "pygments_lexer": "ipython2",
   "version": "2.7.10"
  }
 },
 "nbformat": 4,
 "nbformat_minor": 0
}
