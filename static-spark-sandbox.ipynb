{
 "cells": [
  {
   "cell_type": "code",
   "execution_count": 19,
   "metadata": {
    "collapsed": true
   },
   "outputs": [],
   "source": [
    "import json"
   ]
  },
  {
   "cell_type": "code",
   "execution_count": null,
   "metadata": {
    "collapsed": false
   },
   "outputs": [],
   "source": [
    "import re\n",
    "f = open('search-terms.txt','r')\n",
    "p = '|(\\s|#|@)'.join([line.rstrip() for line in f.readlines()])\n",
    "f.close()\n"
   ]
  },
  {
   "cell_type": "code",
   "execution_count": 40,
   "metadata": {
    "collapsed": false
   },
   "outputs": [],
   "source": [
    "rdd = sc.textFile('data/2015-09-16-20-00.gz').cache()"
   ]
  },
  {
   "cell_type": "code",
   "execution_count": 106,
   "metadata": {
    "collapsed": false
   },
   "outputs": [],
   "source": [
    "def make_json(tweet):\n",
    "    ''' Get stringified JSOn from Kafka, attempt to convert to JSON '''\n",
    "    try:\n",
    "        return json.loads(tweet.decode('utf-8'))\n",
    "    except:\n",
    "        return \"error\"+str(tweet.decode('utf-8'))\n",
    "\n",
    "def filter_tweets(item,pattern):\n",
    "    ''' Filters out the tweets we do not want.  Filters include:\n",
    "            * No retweets \n",
    "            * No geolocation or location field (do we really care about this?)\n",
    "            * English language only\n",
    "            * No tweets with links\n",
    "                - We need to check both entities and media fields for this (is that true?)\n",
    "    '''\n",
    "    return (('delete' not in item.keys()) and\n",
    "            ('retweeted_status' not in item.keys())                           and \n",
    "            #((item['geo'] is not None) or (item['user']['location'] is not None)) and\n",
    "            (item['lang']=='en')                       and\n",
    "            (len(item['entities']['urls'])==0)                   and\n",
    "            ('media' not in item['entities'].keys()) and\n",
    "            (re.search(pattern,item['text'],re.I) is not None)\n",
    "           )\n",
    "\n",
    "def get_relevant_fields(item):\n",
    "    ''' Reduce the full set of metadata down to only those we care about, including:\n",
    "            * timestamp\n",
    "            * username\n",
    "            * text of tweet \n",
    "            * hashtags\n",
    "            * geotag coordinates (if any)\n",
    "            * location (user-defined in profile, not necessarily current location)\n",
    "    '''\n",
    "    return (item['id'], \n",
    "            {\"timestamp\":  item['created_at'],\n",
    "             \"username\":    item['user']['screen_name'],\n",
    "             \"text\":        item['text'],\n",
    "             \"hashtags\":    [el['text'] for el in item['entities']['hashtags']],\n",
    "             \"geotag\":    item['geo'],\n",
    "             \"user_loc\":    item['user']['location']\n",
    "            }\n",
    "           )"
   ]
  },
  {
   "cell_type": "code",
   "execution_count": 42,
   "metadata": {
    "collapsed": false
   },
   "outputs": [
    {
     "name": "stdout",
     "output_type": "stream",
     "text": [
      "Total: 452684\n",
      "Non-deletes: 409082\n",
      "Passed filter: 409082\n"
     ]
    }
   ],
   "source": [
    "print \"Total:\",rdd.count()\n",
    "\n",
    "print \"Non-deletes:\",rdd.map(make_json).count()\n",
    "\n",
    "print \"Passed filter:\",rdd.map(make_json).filter(filter_tweets).count()\n"
   ]
  },
  {
   "cell_type": "code",
   "execution_count": 108,
   "metadata": {
    "collapsed": false
   },
   "outputs": [],
   "source": [
    "rddj = rdd.map(make_json).cache()"
   ]
  },
  {
   "cell_type": "code",
   "execution_count": null,
   "metadata": {
    "collapsed": true
   },
   "outputs": [],
   "source": [
    "print \"Passed filter:\",rdd.map(make_json).filter(filter_tweets).count()"
   ]
  },
  {
   "cell_type": "code",
   "execution_count": 116,
   "metadata": {
    "collapsed": false
   },
   "outputs": [],
   "source": [
    "a = rddj.filter(lambda x: filter_tweets(x,p)).map(get_relevant_fields)"
   ]
  },
  {
   "cell_type": "code",
   "execution_count": 118,
   "metadata": {
    "collapsed": false
   },
   "outputs": [],
   "source": [
    "postf = a.collect()\n"
   ]
  },
  {
   "cell_type": "code",
   "execution_count": null,
   "metadata": {
    "collapsed": true
   },
   "outputs": [],
   "source": [
    "for x in postf:\n",
    "    print x['created_at']"
   ]
  },
  {
   "cell_type": "code",
   "execution_count": 104,
   "metadata": {
    "collapsed": true
   },
   "outputs": [],
   "source": [
    "def terms_filter(item,p):\n",
    "    return re.search(p,item['text'],re.I)"
   ]
  },
  {
   "cell_type": "code",
   "execution_count": 105,
   "metadata": {
    "collapsed": false
   },
   "outputs": [
    {
     "name": "stdout",
     "output_type": "stream",
     "text": [
      "MATCH: Thoughts &amp; prayers go out to all the closeted liberal teens who will be watching the #GOPDebate tonight w/ their conservative families.\n",
      "\n",
      "MATCH: #RatPackReps Estbmnt pols: @BobbyJindal @lindsaygrahamsc Petaki whose goal is to defeat #Trump by lying. Am is dying bec of these jackasses\n",
      "\n",
      "MATCH: Going get good laugh tonight..watching these idiots. Too bad @pmharper couldn't  join them; he'll fit right in. #CNNDebate #elxn42\n",
      "\n",
      "MATCH: #CNNDebate...the worst part of this debate is that it is on CNN...\n",
      "\n",
      "MATCH: @alltookayla Bernie is gonna drag duh\n",
      "\n",
      "MATCH: @talkwordy @HillaryJacques Now I want a kitkat. Damn you!\n",
      "\n",
      "MATCH: Candidates getting psyched to music for debate:  Christie = Jersey Boys Soundtrack. #MakeAmericaGreatAgain\n",
      "\n",
      "MATCH: As an outsider (and I'm not American citizen) I really feel Trump makes this election more like his reality show. Politics=fun! #GOPDebate\n",
      "\n",
      "MATCH: @BobbyJindal is pissed he's so sorry. Definitely little man syndrome! #CNNDebate\n",
      "\n",
      "MATCH: JV #GOP #CNNDebate closes &amp; pans over the audience. Reveals veritable vacuum of ethnic diversity present. #Paid2Watch #DiversitySingularity\n",
      "\n",
      "MATCH: @kegger007 stop talking about trump all day\n",
      "\n",
      "MATCH: Getting ready to watch the \"poo-flinging\" contest... a.k.a. the #CNNDebate \n",
      "\n",
      "Here's a thought, maybe focus on ISSUES?\n",
      "\n",
      "MATCH: We are just moments away from the candidates taking the stage for tonight's #GOPDebate.\n",
      "\n",
      "MATCH: Gonna start tweeting in random languages.\n",
      "\n",
      "MATCH: Go get em @realDonaldTrump #CNNDebate\n",
      "\n",
      "MATCH: @bflourtine PS: Bernie 2016\n",
      "\n",
      "MATCH: .@CNN NOBODY CARES ABOUT THE GROUP PHOTO #GOPDebate\n",
      "\n",
      "MATCH: @realDonaldTrump My heart is with you and I wish you the best in the next hour with these idiots, god bless we need you\n",
      "\n",
      "MATCH: \"I just want to cuddle with @BernieSanders\" -Rhys Jones\n",
      "\n",
      "MATCH: Time foranother debate!  #CNNDebate\n",
      "\n"
     ]
    }
   ],
   "source": [
    "for tw in a:\n",
    "    rgx = re.search(p,tw[1]['text'],re.I)\n",
    "    if rgx is not None:\n",
    "        print \"MATCH:\", tw[1]['text']\n",
    "        print"
   ]
  },
  {
   "cell_type": "code",
   "execution_count": 91,
   "metadata": {
    "collapsed": false
   },
   "outputs": [
    {
     "data": {
      "text/plain": [
       "\"gopdebate|cnndebate|cnbcdebate|foxbusinessdebate|republicandebate|democraticdebate|candidates|clinton|clinton's|hillary|hillary's|hillaryclinton|readyforhillary|Hillary2016|sanders|sanders'|sanders's|bernie|bernie's|feelthebern|BernieSanders2016|Sanders2016|omalley|OMalley2016|martinomalley|bush|bush's|jeb|jeb's|jebbush|jebcanfixit|AllinForJeb|carson|carson's|bencarson|BC2DC16|ImWithBen|Carson2016|cruz|cruz's|tedcruz|ATimeForTruth|CruzCrew|fiorina|fiorina's|carlyfiorina|Carly2016|kaisch|kaisch's|johnkaisch|rand|rand's|randpaul|StandWithRand|rubio|rubio's|marcorubio|TeamMarco|trump|trump's|donaldtrump|DonaldTrumpforPresident|Trump2016|makeamericagreatagain|realdonaldtrump\""
      ]
     },
     "execution_count": 91,
     "metadata": {},
     "output_type": "execute_result"
    }
   ],
   "source": [
    "p"
   ]
  },
  {
   "cell_type": "code",
   "execution_count": null,
   "metadata": {
    "collapsed": true
   },
   "outputs": [],
   "source": []
  }
 ],
 "metadata": {
  "kernelspec": {
   "display_name": "Python 2",
   "language": "python",
   "name": "python2"
  },
  "language_info": {
   "codemirror_mode": {
    "name": "ipython",
    "version": 2
   },
   "file_extension": ".py",
   "mimetype": "text/x-python",
   "name": "python",
   "nbconvert_exporter": "python",
   "pygments_lexer": "ipython2",
   "version": "2.7.10"
  }
 },
 "nbformat": 4,
 "nbformat_minor": 0
}
