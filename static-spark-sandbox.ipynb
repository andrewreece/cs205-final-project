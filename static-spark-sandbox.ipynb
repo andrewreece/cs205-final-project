{
 "cells": [
  {
   "cell_type": "code",
   "execution_count": 208,
   "metadata": {
    "collapsed": false
   },
   "outputs": [],
   "source": [
    "import matplotlib\n",
    "import matplotlib.pyplot as plt\n",
    "%matplotlib inline\n",
    "new_style = {'grid': False}\n",
    "matplotlib.rc('axes', **new_style)\n",
    "import seaborn as sns\n",
    "import json\n",
    "from dateutil import parser, tz\n",
    "from datetime import datetime, timedelta\n",
    "import pandas as pd\n",
    "import numpy as np\n",
    "from_zone = tz.gettz('UTC')\n",
    "to_zone = tz.gettz('America/New_York')\n",
    "\n",
    "import re\n",
    "fname = 'search-terms.txt'\n",
    "f = open(fname,'r')\n",
    "p = '|(\\s|#|@)'.join([line.rstrip() for line in f.readlines()])\n",
    "f.close()\n"
   ]
  },
  {
   "cell_type": "code",
   "execution_count": null,
   "metadata": {
    "collapsed": false
   },
   "outputs": [],
   "source": []
  },
  {
   "cell_type": "code",
   "execution_count": 191,
   "metadata": {
    "collapsed": false
   },
   "outputs": [],
   "source": [
    "rdd = sc.textFile('data/*.gz').repartition(10).cache()"
   ]
  },
  {
   "cell_type": "code",
   "execution_count": 106,
   "metadata": {
    "collapsed": false
   },
   "outputs": [],
   "source": [
    "def make_json(tweet):\n",
    "    ''' Get stringified JSOn from Kafka, attempt to convert to JSON '''\n",
    "    try:\n",
    "        return json.loads(tweet.decode('utf-8'))\n",
    "    except:\n",
    "        return \"error\"+str(tweet.decode('utf-8'))\n",
    "\n",
    "def filter_tweets(item,pattern):\n",
    "    ''' Filters out the tweets we do not want.  Filters include:\n",
    "            * No retweets \n",
    "            * No geolocation or location field (do we really care about this?)\n",
    "            * English language only\n",
    "            * No tweets with links\n",
    "                - We need to check both entities and media fields for this (is that true?)\n",
    "    '''\n",
    "    return (('delete' not in item.keys()) and\n",
    "            ('retweeted_status' not in item.keys())                           and \n",
    "            (item['lang']=='en')                       and\n",
    "            (len(item['entities']['urls'])==0)                   and\n",
    "            ('media' not in item['entities'].keys()) and\n",
    "            (re.search(pattern,item['text'],re.I) is not None)\n",
    "           )\n",
    "\n",
    "def get_relevant_fields(item):\n",
    "    ''' Reduce the full set of metadata down to only those we care about, including:\n",
    "            * timestamp\n",
    "            * username\n",
    "            * text of tweet \n",
    "            * hashtags\n",
    "            * geotag coordinates (if any)\n",
    "            * location (user-defined in profile, not necessarily current location)\n",
    "    '''\n",
    "    return (item['id'], \n",
    "            {\"timestamp\":  item['created_at'],\n",
    "             \"username\":    item['user']['screen_name'],\n",
    "             \"text\":        item['text'],\n",
    "             \"hashtags\":    [el['text'] for el in item['entities']['hashtags']],\n",
    "             \"geotag\":    item['geo'],\n",
    "             \"user_loc\":    item['user']['location']\n",
    "            }\n",
    "           )"
   ]
  },
  {
   "cell_type": "code",
   "execution_count": 119,
   "metadata": {
    "collapsed": false
   },
   "outputs": [],
   "source": [
    "#print \"Total:\",rdd.count()\n",
    "#print \"Non-deletes:\",rdd.map(make_json).count()\n",
    "#print \"Passed filter:\",rdd.map(make_json).filter(filter_tweets).count()\n"
   ]
  },
  {
   "cell_type": "code",
   "execution_count": 192,
   "metadata": {
    "collapsed": false
   },
   "outputs": [],
   "source": [
    "rddj = rdd.map(make_json).cache()"
   ]
  },
  {
   "cell_type": "code",
   "execution_count": null,
   "metadata": {
    "collapsed": true
   },
   "outputs": [],
   "source": [
    "#print \"Passed filter:\",rddj.filter(filter_tweets).count()"
   ]
  },
  {
   "cell_type": "code",
   "execution_count": 193,
   "metadata": {
    "collapsed": false
   },
   "outputs": [],
   "source": [
    "a = rddj.filter(lambda x: filter_tweets(x,p)).map(get_relevant_fields)"
   ]
  },
  {
   "cell_type": "code",
   "execution_count": 194,
   "metadata": {
    "collapsed": false
   },
   "outputs": [],
   "source": [
    "postf = a.collect()\n"
   ]
  },
  {
   "cell_type": "code",
   "execution_count": 196,
   "metadata": {
    "collapsed": false
   },
   "outputs": [
    {
     "data": {
      "text/plain": [
       "14919"
      ]
     },
     "execution_count": 196,
     "metadata": {},
     "output_type": "execute_result"
    }
   ],
   "source": [
    "len(postf)"
   ]
  },
  {
   "cell_type": "code",
   "execution_count": 197,
   "metadata": {
    "collapsed": false
   },
   "outputs": [],
   "source": [
    "tweet_ids, tweets = zip(*postf)"
   ]
  },
  {
   "cell_type": "code",
   "execution_count": 198,
   "metadata": {
    "collapsed": false
   },
   "outputs": [],
   "source": [
    "dts = np.empty(len(tweets),dtype=object)\n",
    "for i,x in enumerate(tweets):\n",
    "    dt = parser.parse(x['timestamp'])\n",
    "    utc = dt.replace(tzinfo=from_zone)\n",
    "    dt2 = utc.astimezone(to_zone)\n",
    "    dts[i] = dt2\n"
   ]
  },
  {
   "cell_type": "code",
   "execution_count": 255,
   "metadata": {
    "collapsed": false
   },
   "outputs": [
    {
     "data": {
      "text/plain": [
       "<matplotlib.text.Text at 0x11ca4f2d0>"
      ]
     },
     "execution_count": 255,
     "metadata": {},
     "output_type": "execute_result"
    },
    {
     "data": {
      "image/png": "[encoded data removed]",
      "text/plain": [
       "<matplotlib.figure.Figure at 0x11bf91f90>"
      ]
     },
     "metadata": {},
     "output_type": "display_data"
    }
   ],
   "source": [
    "df = pd.DataFrame(dts,columns=['tstamp'])\n",
    "counts = df.tstamp.groupby(df.tstamp.dt.minute).count()\n",
    "np.put( counts.index.values, np.where(counts.index==59)[0],-1)\n",
    "ax = counts.sort_index().plot(kind='bar',\n",
    "                              figsize=(9,5),\n",
    "                              width=.8,\n",
    "                              fontsize=14,\n",
    "                              rot=0)\n",
    "ax.set_ylabel(\"Tweet frequency\",fontsize=16)\n",
    "ax.set_xlabel(\"Minutes in the 8pm hour\",fontsize=16)"
   ]
  },
  {
   "cell_type": "code",
   "execution_count": null,
   "metadata": {
    "collapsed": true
   },
   "outputs": [],
   "source": []
  }
 ],
 "metadata": {
  "kernelspec": {
   "display_name": "Python 2",
   "language": "python",
   "name": "python2"
  },
  "language_info": {
   "codemirror_mode": {
    "name": "ipython",
    "version": 2
   },
   "file_extension": ".py",
   "mimetype": "text/x-python",
   "name": "python",
   "nbconvert_exporter": "python",
   "pygments_lexer": "ipython2",
   "version": "2.7.10"
  }
 },
 "nbformat": 4,
 "nbformat_minor": 0
}
