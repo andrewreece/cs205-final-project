{
 "cells": [
  {
   "cell_type": "code",
   "execution_count": 1,
   "metadata": {
    "collapsed": false
   },
   "outputs": [],
   "source": [
    "import json\n",
    "import numpy as np\n",
    "import pandas as pd\n",
    "from datetime import *\n",
    "from dateutil import parser, tz\n",
    "\n",
    "import seaborn as sns\n",
    "import matplotlib\n",
    "%matplotlib inline\n",
    "import matplotlib.pyplot as plt\n",
    "# get rid of gridlines \n",
    "new_style = {'grid': False}\n",
    "matplotlib.rc('axes', **new_style)\n",
    "\n",
    "import imp\n",
    "sentiment = imp.load_source('sentiment', '/Users/andrew/git-local/sentiment.py')"
   ]
  },
  {
   "cell_type": "code",
   "execution_count": 2,
   "metadata": {
    "collapsed": false
   },
   "outputs": [],
   "source": [
    "labMT, mtList, wordList = sentiment.emotionFileReader(1.0, returnVector=True)"
   ]
  },
  {
   "cell_type": "code",
   "execution_count": 3,
   "metadata": {
    "collapsed": true
   },
   "outputs": [],
   "source": [
    "raw = []\n",
    "for hr in ['19','20','21','22','23']:\n",
    "    with open(hr+'.txt','r') as f:\n",
    "        raw.extend(f.readlines())\n",
    "        \n",
    "# read in as array of dicts\n",
    "rows = np.array([json.loads(line) for line in raw])\n",
    "# we only need some of these keys, and the others may cause trouble for pandas\n",
    "keys = np.array(['first_term','text','timestamp','tweet_id','username'])\n",
    "for row in rows:\n",
    "    for k in row.keys():\n",
    "        if k not in keys:\n",
    "            del row[k]\n",
    "            \n",
    "df = pd.DataFrame.from_records(rows)"
   ]
  },
  {
   "cell_type": "code",
   "execution_count": 4,
   "metadata": {
    "collapsed": true
   },
   "outputs": [],
   "source": [
    "def update_tz(d):\n",
    "    ''' Updates time zone for date stamp to US EST (the time zone of the debates) '''\n",
    "    def convert_timezone(item):\n",
    "        from_zone = tz.gettz('UTC')\n",
    "        to_zone = tz.gettz('America/New_York')\n",
    "        utc = d.replace(tzinfo=from_zone)\n",
    "        return utc.astimezone(to_zone)\n",
    "    \n",
    "    return convert_timezone(d)"
   ]
  },
  {
   "cell_type": "code",
   "execution_count": 5,
   "metadata": {
    "collapsed": false
   },
   "outputs": [],
   "source": [
    "interval = 30\n",
    "df['timestamp'] = pd.to_datetime(df.timestamp)\n",
    "df['timestamp'] = df.timestamp.apply(\n",
    "                    lambda dt: datetime(dt.year, dt.month, dt.day, dt.hour, \n",
    "                                        dt.minute,interval*(dt.second // interval))\n",
    "                  )\n",
    "df.timestamp = df.timestamp.apply(update_tz)"
   ]
  },
  {
   "cell_type": "markdown",
   "metadata": {},
   "source": [
    "Note: If making histograms, limit df to time of debate. Eg. dem oct 13 debate is 830-11pm"
   ]
  },
  {
   "cell_type": "code",
   "execution_count": 10,
   "metadata": {
    "collapsed": false
   },
   "outputs": [],
   "source": [
    "start_time = datetime.strptime(\"20:30:00\",\"%H:%M:%S\").time()\n",
    "end_time = datetime.strptime(\"23:00:00\",\"%H:%M:%S\").time()\n",
    "actualdf = df.ix[(df.timestamp.dt.time >= start_time) & (df.timestamp.dt.time <= end_time),:]"
   ]
  },
  {
   "cell_type": "code",
   "execution_count": 11,
   "metadata": {
    "collapsed": false
   },
   "outputs": [
    {
     "data": {
      "text/plain": [
       "(84022, 5)"
      ]
     },
     "execution_count": 11,
     "metadata": {},
     "output_type": "execute_result"
    }
   ],
   "source": [
    "actualdf.shape"
   ]
  },
  {
   "cell_type": "code",
   "execution_count": 6,
   "metadata": {
    "collapsed": false
   },
   "outputs": [],
   "source": [
    "g = df.groupby(['first_term',pd.TimeGrouper(str(interval)+'S',key=\"timestamp\")])"
   ]
  },
  {
   "cell_type": "code",
   "execution_count": 13,
   "metadata": {
    "collapsed": false
   },
   "outputs": [],
   "source": [
    "ctdf = pd.DataFrame(g.text.count()).reset_index()"
   ]
  },
  {
   "cell_type": "code",
   "execution_count": 277,
   "metadata": {
    "collapsed": false
   },
   "outputs": [
    {
     "data": {
      "image/png": "[encoded data removed]",
      "text/plain": [
       "<matplotlib.figure.Figure at 0x1238c54d0>"
      ]
     },
     "metadata": {},
     "output_type": "display_data"
    }
   ],
   "source": [
    "# tweets per 30 second interval between 8pm and 11pm: CLINTON\n",
    "_=ctdf.ix[ctdf.first_term==\"clinton\",\"text\"].plot(kind='hist',bins=10,xlim=(0,800),ylim=(0,100))"
   ]
  },
  {
   "cell_type": "code",
   "execution_count": 275,
   "metadata": {
    "collapsed": false
   },
   "outputs": [
    {
     "data": {
      "image/png": "[encoded data removed]",
      "text/plain": [
       "<matplotlib.figure.Figure at 0x124f90190>"
      ]
     },
     "metadata": {},
     "output_type": "display_data"
    }
   ],
   "source": [
    "# tweets per 30 second interval between 8pm and 11pm: SANDERS\n",
    "_=ctdf.ix[ctdf.first_term==\"sanders\",\"text\"].plot(kind='hist',bins=30,xlim=(0,800),ylim=(0,100))"
   ]
  },
  {
   "cell_type": "code",
   "execution_count": 219,
   "metadata": {
    "collapsed": false
   },
   "outputs": [
    {
     "data": {
      "text/html": [
       "<div>\n",
       "<table border=\"1\" class=\"dataframe\">\n",
       "  <thead>\n",
       "    <tr style=\"text-align: right;\">\n",
       "      <th></th>\n",
       "      <th>first_term</th>\n",
       "      <th>timestamp</th>\n",
       "      <th>text</th>\n",
       "    </tr>\n",
       "  </thead>\n",
       "  <tbody>\n",
       "    <tr>\n",
       "      <th>1051</th>\n",
       "      <td>sanders</td>\n",
       "      <td>2015-10-13 21:49:00-04:00</td>\n",
       "      <td>583</td>\n",
       "    </tr>\n",
       "    <tr>\n",
       "      <th>1052</th>\n",
       "      <td>sanders</td>\n",
       "      <td>2015-10-13 21:49:30-04:00</td>\n",
       "      <td>725</td>\n",
       "    </tr>\n",
       "    <tr>\n",
       "      <th>1053</th>\n",
       "      <td>sanders</td>\n",
       "      <td>2015-10-13 21:50:00-04:00</td>\n",
       "      <td>601</td>\n",
       "    </tr>\n",
       "  </tbody>\n",
       "</table>\n",
       "</div>"
      ],
      "text/plain": [
       "     first_term                 timestamp  text\n",
       "1051    sanders 2015-10-13 21:49:00-04:00   583\n",
       "1052    sanders 2015-10-13 21:49:30-04:00   725\n",
       "1053    sanders 2015-10-13 21:50:00-04:00   601"
      ]
     },
     "execution_count": 219,
     "metadata": {},
     "output_type": "execute_result"
    }
   ],
   "source": [
    "#sanders has crazy tweets from 9:49-9:50!!\n",
    "ctdf.ix[(ctdf.first_term==\"sanders\") & (ctdf.text>500),:]"
   ]
  },
  {
   "cell_type": "code",
   "execution_count": 278,
   "metadata": {
    "collapsed": false
   },
   "outputs": [
    {
     "data": {
      "image/png": "[encoded data removed]",
      "text/plain": [
       "<matplotlib.figure.Figure at 0x16855ebd0>"
      ]
     },
     "metadata": {},
     "output_type": "display_data"
    }
   ],
   "source": [
    "# tweets per 30 second interval between 8pm and 11pm: OMALLEY\n",
    "_=ctdf.ix[ctdf.first_term==\"omalley\",\"text\"].plot(kind='hist',bins=5,xlim=(0,800),ylim=(0,100))"
   ]
  },
  {
   "cell_type": "code",
   "execution_count": 279,
   "metadata": {
    "collapsed": false
   },
   "outputs": [
    {
     "data": {
      "image/png": "[encoded data removed]",
      "text/plain": [
       "<matplotlib.figure.Figure at 0x1213d54d0>"
      ]
     },
     "metadata": {},
     "output_type": "display_data"
    }
   ],
   "source": [
    "# tweets per 30 second interval between 8pm and 11pm: GENERAL\n",
    "_=ctdf.ix[ctdf.first_term==\"general\",\"text\"].plot(kind='hist',bins=5,xlim=(0,800),ylim=(0,100))"
   ]
  },
  {
   "cell_type": "code",
   "execution_count": 87,
   "metadata": {
    "collapsed": false
   },
   "outputs": [],
   "source": [
    "candidate_dict = {}\n",
    "candidate_names = df.first_term.unique()\n",
    "tweet_counts = g.text.count()\n",
    "party = \"dem\"\n",
    "\n",
    "for candidate in candidate_names:\n",
    "    try:\n",
    "        n = tweet_counts[candidate]\n",
    "    except:\n",
    "        n = 0\n",
    "    candidate_dict[candidate] = { 'party':party if candidate is not 'general' else 'general',\n",
    "                                  'num_tweets':n,\n",
    "                                  'sentiment_avg':'',\n",
    "                                  'sentiment_std':'',\n",
    "                                  'highest_sentiment_tweet':'',\n",
    "                                  'lowest_sentiment_tweet':''\n",
    "                                 }"
   ]
  },
  {
   "cell_type": "code",
   "execution_count": 47,
   "metadata": {
    "collapsed": true
   },
   "outputs": [],
   "source": [
    "cts = g.text.count().reset_index().sort_values(by=['timestamp','first_term'])\n",
    "cts.columns = ['first_term','timestamp','count']"
   ]
  },
  {
   "cell_type": "code",
   "execution_count": 50,
   "metadata": {
    "collapsed": false
   },
   "outputs": [],
   "source": []
  },
  {
   "cell_type": "code",
   "execution_count": 8,
   "metadata": {
    "collapsed": false
   },
   "outputs": [],
   "source": [
    "sentidf = g.text.apply(lambda x: sentiment.emotion(' '.join(x),labMT, return_scores=True))"
   ]
  },
  {
   "cell_type": "code",
   "execution_count": 13,
   "metadata": {
    "collapsed": false
   },
   "outputs": [],
   "source": [
    "sentidf = sentidf.reset_index()"
   ]
  },
  {
   "cell_type": "code",
   "execution_count": 14,
   "metadata": {
    "collapsed": true
   },
   "outputs": [],
   "source": [
    "sentidf['prop_words_scored'] = 0\n",
    "sentidf['total_word_ct'] = 0\n",
    "sentidf['avg_senti'] = 0\n",
    "sentidf['std_senti'] = 0"
   ]
  },
  {
   "cell_type": "code",
   "execution_count": 52,
   "metadata": {
    "collapsed": false
   },
   "outputs": [],
   "source": [
    "sentidf.avg_senti = [x[0] for x in sentidf.text]\n",
    "sentidf.std_senti = [x[1] for x in sentidf.text]\n",
    "sentidf.total_word_ct = [x[5] for x in sentidf.text]\n",
    "sentidf.prop_words_scored = [x[6] for x in sentidf.text]\n",
    "sentidf.drop('text',1,inplace=True)"
   ]
  },
  {
   "cell_type": "code",
   "execution_count": 60,
   "metadata": {
    "collapsed": false
   },
   "outputs": [],
   "source": [
    "finaldf = pd.concat([sentidf.sort_values(by=['timestamp','first_term']),cts.ix[:,'count']],1).reset_index(drop=True)"
   ]
  },
  {
   "cell_type": "code",
   "execution_count": 61,
   "metadata": {
    "collapsed": false
   },
   "outputs": [
    {
     "data": {
      "text/html": [
       "<div>\n",
       "<table border=\"1\" class=\"dataframe\">\n",
       "  <thead>\n",
       "    <tr style=\"text-align: right;\">\n",
       "      <th></th>\n",
       "      <th>first_term</th>\n",
       "      <th>timestamp</th>\n",
       "      <th>prop_words_scored</th>\n",
       "      <th>total_word_ct</th>\n",
       "      <th>avg_senti</th>\n",
       "      <th>std_senti</th>\n",
       "      <th>count</th>\n",
       "    </tr>\n",
       "  </thead>\n",
       "  <tbody>\n",
       "    <tr>\n",
       "      <th>0</th>\n",
       "      <td>general</td>\n",
       "      <td>2015-10-13 18:59:00-04:00</td>\n",
       "      <td>0.037736</td>\n",
       "      <td>53</td>\n",
       "      <td>7.18</td>\n",
       "      <td>0.040000</td>\n",
       "      <td>3</td>\n",
       "    </tr>\n",
       "    <tr>\n",
       "      <th>1</th>\n",
       "      <td>sanders</td>\n",
       "      <td>2015-10-13 18:59:00-04:00</td>\n",
       "      <td>0.250000</td>\n",
       "      <td>4</td>\n",
       "      <td>6.84</td>\n",
       "      <td>0.000000</td>\n",
       "      <td>1</td>\n",
       "    </tr>\n",
       "    <tr>\n",
       "      <th>2</th>\n",
       "      <td>clinton</td>\n",
       "      <td>2015-10-13 18:59:30-04:00</td>\n",
       "      <td>0.043478</td>\n",
       "      <td>69</td>\n",
       "      <td>6.98</td>\n",
       "      <td>0.256645</td>\n",
       "      <td>4</td>\n",
       "    </tr>\n",
       "    <tr>\n",
       "      <th>3</th>\n",
       "      <td>general</td>\n",
       "      <td>2015-10-13 18:59:30-04:00</td>\n",
       "      <td>0.054054</td>\n",
       "      <td>74</td>\n",
       "      <td>7.08</td>\n",
       "      <td>0.187083</td>\n",
       "      <td>5</td>\n",
       "    </tr>\n",
       "    <tr>\n",
       "      <th>4</th>\n",
       "      <td>sanders</td>\n",
       "      <td>2015-10-13 18:59:30-04:00</td>\n",
       "      <td>0.015152</td>\n",
       "      <td>66</td>\n",
       "      <td>7.22</td>\n",
       "      <td>0.000000</td>\n",
       "      <td>4</td>\n",
       "    </tr>\n",
       "  </tbody>\n",
       "</table>\n",
       "</div>"
      ],
      "text/plain": [
       "  first_term                 timestamp  prop_words_scored  total_word_ct  \\\n",
       "0    general 2015-10-13 18:59:00-04:00           0.037736             53   \n",
       "1    sanders 2015-10-13 18:59:00-04:00           0.250000              4   \n",
       "2    clinton 2015-10-13 18:59:30-04:00           0.043478             69   \n",
       "3    general 2015-10-13 18:59:30-04:00           0.054054             74   \n",
       "4    sanders 2015-10-13 18:59:30-04:00           0.015152             66   \n",
       "\n",
       "   avg_senti  std_senti  count  \n",
       "0       7.18   0.040000      3  \n",
       "1       6.84   0.000000      1  \n",
       "2       6.98   0.256645      4  \n",
       "3       7.08   0.187083      5  \n",
       "4       7.22   0.000000      4  "
      ]
     },
     "execution_count": 61,
     "metadata": {},
     "output_type": "execute_result"
    }
   ],
   "source": [
    "finaldf.head()"
   ]
  },
  {
   "cell_type": "code",
   "execution_count": 25,
   "metadata": {
    "collapsed": false
   },
   "outputs": [
    {
     "name": "stdout",
     "output_type": "stream",
     "text": [
      "use proprotion for general: 0.0433460076046\n",
      "[936]\n",
      "highest scoring tweet: laughter\n",
      "lowest scoring tweet: american\n",
      "use proprotion for sanders: 0.0514128728414\n",
      "[ 81 100 186 235 296 299 303 313]\n",
      "highest scoring tweet: love\n",
      "lowest scoring tweet: american\n",
      "use proprotion for clinton: 0.0519673348181\n",
      "[ 10 104 105 190 201]\n",
      "highest scoring tweet: love\n",
      "lowest scoring tweet: american\n",
      "use proprotion for omalley: 0.0545454545455\n",
      "[10]\n",
      "highest scoring tweet: entertaining\n",
      "lowest scoring tweet: horse\n"
     ]
    }
   ],
   "source": [
    "for cname in candidate_names:\n",
    "    mtavg, mtstd, mtvec, used, unused = sentiment.emotion(each_cand_tweets[cname],labMT, return_scores=True)\n",
    "    print 'use proprotion for {}: {}'.format(cname, len(set(used))/float(len(set(each_cand_tweets[cname].split(\" \")))))\n",
    "    \n",
    "    print np.where(np.array(mtvec)==max(mtvec))[0]\n",
    "    max_ix = np.random.choice(np.where(np.array(mtvec)==max(mtvec))[0])\n",
    "    print 'highest scoring tweet: {}'.format(used[max_ix])\n",
    "    min_ix = np.random.choice(np.where(np.array(mtvec)==min(mtvec))[0])\n",
    "    print 'lowest scoring tweet: {}'.format(used[min_ix])"
   ]
  },
  {
   "cell_type": "code",
   "execution_count": 76,
   "metadata": {
    "collapsed": false
   },
   "outputs": [
    {
     "name": "stdout",
     "output_type": "stream",
     "text": [
      "len arr: 321\n",
      "8.42\n",
      "104\n",
      "len each cand text:\n",
      "first_term\n",
      "clinton     385\n",
      "general    1305\n",
      "omalley      22\n",
      "sanders     466\n",
      "Name: text, dtype: int64\n",
      "164    @Kenzie_et which was really more conducive to ...\n",
      "557    @bcook1132 Nobody can take Obama and Bernie Ma...\n",
      "595    @HillaryClinton even if she's in a prison jump...\n",
      "Name: text, dtype: object\n",
      "len arr: 1103\n",
      "8.5\n",
      "936\n",
      "len each cand text:\n",
      "first_term\n",
      "clinton     385\n",
      "general    1305\n",
      "omalley      22\n",
      "sanders     466\n",
      "Name: text, dtype: int64\n",
      "1535    @StevieJoCarper @realDonaldTrump getting my po...\n",
      "Name: text, dtype: object\n",
      "len arr: 13\n",
      "7.62\n",
      "10\n",
      "len each cand text:\n",
      "first_term\n",
      "clinton     385\n",
      "general    1305\n",
      "omalley      22\n",
      "sanders     466\n",
      "Name: text, dtype: int64\n",
      "19      I'm already cringing in anticipation of #trump...\n",
      "45        @HillaryClinton is a CR alumn. #CRareEverywhere\n",
      "60      Who Said It: Bernie Sanders or Ron Swanson? Ta...\n",
      "1093    @katiecouric That would be @MartinOMalley. Rea...\n",
      "Name: text, dtype: object\n",
      "len arr: 316\n",
      "8.42\n",
      "235\n",
      "len each cand text:\n",
      "first_term\n",
      "clinton     385\n",
      "general    1305\n",
      "omalley      22\n",
      "sanders     466\n",
      "Name: text, dtype: int64\n",
      "376     @thedailybeast @JamesRiley2 hell! Most of the ...\n",
      "1176    hopefully only Bernie ballin' more than Kersha...\n",
      "1269    @susiebright \\n\\n#Hillary2016 coronation \\n\\n#...\n",
      "Name: text, dtype: object\n"
     ]
    }
   ],
   "source": [
    "for c in each_cand_sent:\n",
    "    arr = np.array(c[2])\n",
    "    maxval = max(arr)\n",
    "    print 'len arr:',len(arr)\n",
    "    print maxval\n",
    "                 \n",
    "    max_ix = np.random.choice(np.where(arr==maxval)[0])\n",
    "    print max_ix\n",
    "    print 'len each cand text:'\n",
    "    print each_cand.text.count()\n",
    "    print each_cand.text.nth(max_ix)"
   ]
  },
  {
   "cell_type": "code",
   "execution_count": 64,
   "metadata": {
    "collapsed": false
   },
   "outputs": [
    {
     "data": {
      "text/plain": [
       "<pandas.core.groupby.SeriesGroupBy object at 0x10c7c7850>"
      ]
     },
     "execution_count": 64,
     "metadata": {},
     "output_type": "execute_result"
    }
   ],
   "source": [
    "each_cand.text"
   ]
  },
  {
   "cell_type": "code",
   "execution_count": 53,
   "metadata": {
    "collapsed": false
   },
   "outputs": [
    {
     "data": {
      "text/plain": [
       "<matplotlib.legend.Legend at 0x10d5b7390>"
      ]
     },
     "execution_count": 53,
     "metadata": {},
     "output_type": "execute_result"
    },
    {
     "data": {
      "image/png": "[encoded data removed]",
      "text/plain": [
       "<matplotlib.figure.Figure at 0x10e17db90>"
      ]
     },
     "metadata": {},
     "output_type": "display_data"
    }
   ],
   "source": [
    "plt.figure(figsize=(6,4))\n",
    "for c in each_cand_sent:\n",
    "    plt.hist(c[2],bins=15,alpha=0.4)\n",
    "plt.legend(each_cand_sent.index.values.astype(str),fontsize=14)"
   ]
  },
  {
   "cell_type": "code",
   "execution_count": null,
   "metadata": {
    "collapsed": true
   },
   "outputs": [],
   "source": [
    "def process(rdd,json_terms,debate_party,domain_name='sentiment',n_parts=10):\n",
    "    try:\n",
    "\n",
    "\n",
    "            if accum.value > 0:\n",
    "                accum2 = rdd.context.accumulator(0)\n",
    "                try:\n",
    "                    scored = scored.filter(lambda score: score[0][0] is not None).cache()\n",
    "                except Exception,e:\n",
    "                    print 'nothing left after filtering out no-scores'\n",
    "\n",
    "                scored.foreach(lambda x: accum2.add(1))\n",
    "                if accum2.value > 1: # we want at least 2 tweets for highest and lowest scoring\n",
    "                    high_parts = scored.takeOrdered(1, key = lambda x: -x[0][0])[0]\n",
    "                    high_scores, high_tweet = high_parts\n",
    "                    \n",
    "                    #print 'high scores'\n",
    "                    #print high_scores\n",
    "                    high_avg = str(high_scores[0])\n",
    "                    high_tweet = high_tweet.encode('utf8').decode('ascii','ignore')\n",
    "                    \n",
    "                    low_parts  = scored.takeOrdered(1, key = lambda x:  x[0][0])[0]\n",
    "                    \n",
    "                    low_scores, low_tweet = low_parts\n",
    "                    #print 'low scores'\n",
    "                    #print low_scores\n",
    "                    low_avg = str(low_scores[0])\n",
    "                    low_tweet = low_tweet.encode('utf8').decode('ascii','ignore')\n",
    "\n",
    "                else:\n",
    "                    high_avg = low_avg = high_tweet = low_tweet = ''\n",
    "\n",
    "\n",
    "                candidate_dict[candidate]['highest_sentiment_tweet'] = '_'.join([high_avg,high_tweet])\n",
    "                candidate_dict[candidate]['lowest_sentiment_tweet']  = '_'.join([low_avg,low_tweet])  \n",
    "\n",
    "                sentiment = (result.map(lambda x: (1,x.text))\n",
    "                                        .reduceByKey(lambda x,y: ' '.join([str(x),str(y)]))\n",
    "                                        .map( lambda text: emotion(text[1],labMT) )\n",
    "                                        .collect()\n",
    "                                 )\n",
    "                try:\n",
    "                    sentiment_avg, sentiment_std = sentiment[0]\n",
    "                except Exception,e:\n",
    "                    print str(e)\n",
    "                    print 'sentiment is empty'\n",
    "\n",
    "                candidate_dict[candidate]['sentiment_avg'] = str(sentiment_avg)\n",
    "                candidate_dict[candidate]['sentiment_std'] = str(sentiment_std) \n",
    "\n",
    "        attrs = []\n",
    "        import boto3,json\n",
    "        client = boto3.client('sdb')\n",
    "\n",
    "        for cname,cdata in candidate_dict.items():\n",
    "            attrs.append( {'Name':cname,'Value':json.dumps(cdata),'Replace':True} )\n",
    "\n",
    "        try:\n",
    "            # write row of data to SDB\n",
    "            client.put_attributes(\n",
    "                DomainName= domain_name,\n",
    "                ItemName  = str(time.time()),\n",
    "                Attributes= attrs \n",
    "            ) \n",
    "        except Exception,e:\n",
    "            print 'sdb write error: {}'.format(str(e))\n",
    "\n",
    "        #rdd.foreachPartition(lambda p: write_to_db(p,level='group'))\n",
    "    except Exception, e:\n",
    "        print \n",
    "        print 'THERE IS AN ERROR!!!!'\n",
    "        print str(e)\n",
    "        print\n",
    "        pass\n",
    "\n"
   ]
  }
 ],
 "metadata": {
  "kernelspec": {
   "display_name": "Python 2",
   "language": "python",
   "name": "python2"
  },
  "language_info": {
   "codemirror_mode": {
    "name": "ipython",
    "version": 2
   },
   "file_extension": ".py",
   "mimetype": "text/x-python",
   "name": "python",
   "nbconvert_exporter": "python",
   "pygments_lexer": "ipython2",
   "version": "2.7.10"
  }
 },
 "nbformat": 4,
 "nbformat_minor": 0
}
